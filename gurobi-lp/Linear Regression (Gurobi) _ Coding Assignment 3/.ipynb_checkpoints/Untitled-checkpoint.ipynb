{
 "cells": [
  {
   "cell_type": "code",
   "execution_count": 5,
   "metadata": {
    "collapsed": true
   },
   "outputs": [],
   "source": [
    "import gurobipy\n",
    "import numpy as np\n",
    "from functions import construct_lp_model, open_data"
   ]
  },
  {
   "cell_type": "markdown",
   "metadata": {},
   "source": [
    "## Q1"
   ]
  },
  {
   "cell_type": "code",
   "execution_count": 7,
   "metadata": {
    "collapsed": false
   },
   "outputs": [],
   "source": [
    "x, y = open_data()\n",
    "N, n = len(x), len(x[0])\n",
    "\n",
    "nb_var = N + n + 1 + 1"
   ]
  },
  {
   "cell_type": "code",
   "execution_count": 9,
   "metadata": {
    "collapsed": false
   },
   "outputs": [],
   "source": [
    "# c\n",
    "c = np.zeros(nb_var) # w, b, a_i, z\n",
    "c[-1] = 1"
   ]
  },
  {
   "cell_type": "code",
   "execution_count": 11,
   "metadata": {
    "collapsed": false
   },
   "outputs": [],
   "source": [
    "# A\n",
    "A = np.zeros((3*N, nb_var))\n",
    "d = np.zeros(3*N)\n",
    "for i in range(N):\n",
    "    # constraint 1\n",
    "    A[i,:n] = -x[i]\n",
    "    A[i,n] = -1\n",
    "    A[i,n+1+i] = -1\n",
    "    A[i,-1] = 0\n",
    "    \n",
    "    d[i] = -y[i]\n",
    "    \n",
    "    # constraint 2\n",
    "    A[N+i,:n] = x[i]\n",
    "    A[N+i,n] = 1\n",
    "    A[N+i,n+1+i] = -1\n",
    "    A[N+i,-1] = 0\n",
    "    \n",
    "    d[N+i] = y[i]\n",
    "    \n",
    "    # constraint 3\n",
    "    A[2*N+i,:n+1] = 0\n",
    "    A[2*N+i,n+1+i] = 1\n",
    "    A[2*N+i,-1] = -1\n",
    "    \n",
    "    d[2*N+i] = 0"
   ]
  },
  {
   "cell_type": "code",
   "execution_count": 14,
   "metadata": {
    "collapsed": true
   },
   "outputs": [
    {
     "ename": "GurobiError",
     "evalue": "No Gurobi license found (user syht, host syht-Z370M-D3H, hostid 341fe2ad, cores 6)",
     "output_type": "error",
     "traceback": [
      "\u001b[0;31m------------------------------------------------------------------\u001b[0m",
      "\u001b[0;31mGurobiError\u001b[0m                      Traceback (most recent call last)",
      "\u001b[0;32m<ipython-input-14-fa08f091305c>\u001b[0m in \u001b[0;36m<module>\u001b[0;34m()\u001b[0m\n\u001b[0;32m----> 1\u001b[0;31m \u001b[0mm\u001b[0m \u001b[0;34m=\u001b[0m \u001b[0mconstruct_lp_model\u001b[0m\u001b[0;34m(\u001b[0m\u001b[0mc\u001b[0m\u001b[0;34m,\u001b[0m \u001b[0mA\u001b[0m\u001b[0;34m,\u001b[0m \u001b[0md\u001b[0m\u001b[0;34m)\u001b[0m\u001b[0;34m\u001b[0m\u001b[0m\n\u001b[0m\u001b[1;32m      2\u001b[0m \u001b[0mm\u001b[0m\u001b[0;34m.\u001b[0m\u001b[0moptimize\u001b[0m\u001b[0;34m(\u001b[0m\u001b[0;34m)\u001b[0m\u001b[0;34m\u001b[0m\u001b[0m\n",
      "\u001b[0;32m/media/syht/Data/Works/gurobi-lp/Linear Regression (Gurobi) _ Coding Assignment 3/functions.py\u001b[0m in \u001b[0;36mconstruct_lp_model\u001b[0;34m(c, A, d)\u001b[0m\n\u001b[1;32m     30\u001b[0m \u001b[0;34m\u001b[0m\u001b[0m\n\u001b[1;32m     31\u001b[0m     \u001b[0;31m# Creation of the gurobi model\u001b[0m\u001b[0;34m\u001b[0m\u001b[0;34m\u001b[0m\u001b[0m\n\u001b[0;32m---> 32\u001b[0;31m     \u001b[0mm\u001b[0m \u001b[0;34m=\u001b[0m \u001b[0mModel\u001b[0m\u001b[0;34m(\u001b[0m\u001b[0;34m\"sp\"\u001b[0m\u001b[0;34m)\u001b[0m\u001b[0;34m\u001b[0m\u001b[0m\n\u001b[0m\u001b[1;32m     33\u001b[0m \u001b[0;34m\u001b[0m\u001b[0m\n\u001b[1;32m     34\u001b[0m     \u001b[0;31m# Variables\u001b[0m\u001b[0;34m\u001b[0m\u001b[0;34m\u001b[0m\u001b[0m\n",
      "\u001b[0;32mmodel.pxi\u001b[0m in \u001b[0;36mgurobipy.Model.__init__ (../../src/python/gurobipy.c:47380)\u001b[0;34m()\u001b[0m\n",
      "\u001b[0;32mgurobi.pxi\u001b[0m in \u001b[0;36mgurobipy.gurobi._getdefaultenv (../../src/python/gurobipy.c:124766)\u001b[0;34m()\u001b[0m\n",
      "\u001b[0;32menv.pxi\u001b[0m in \u001b[0;36mgurobipy.Env.__init__ (../../src/python/gurobipy.c:7709)\u001b[0;34m()\u001b[0m\n",
      "\u001b[0;31mGurobiError\u001b[0m: No Gurobi license found (user syht, host syht-Z370M-D3H, hostid 341fe2ad, cores 6)"
     ]
    }
   ],
   "source": [
    "m = construct_lp_model(c, A, d)\n",
    "m.optimize()"
   ]
  },
  {
   "cell_type": "markdown",
   "metadata": {},
   "source": [
    "## Q2"
   ]
  },
  {
   "cell_type": "code",
   "execution_count": 2,
   "metadata": {
    "collapsed": true
   },
   "outputs": [],
   "source": [
    "from gurobipy import Model, GRB, quicksum"
   ]
  },
  {
   "cell_type": "code",
   "execution_count": 3,
   "metadata": {
    "collapsed": false
   },
   "outputs": [
    {
     "ename": "GurobiError",
     "evalue": "No Gurobi license found (user syht, host syht-Z370M-D3H, hostid 341fe2ad, cores 6)",
     "output_type": "error",
     "traceback": [
      "\u001b[0;31m---------------------------------------------------------------------------\u001b[0m",
      "\u001b[0;31mGurobiError\u001b[0m                               Traceback (most recent call last)",
      "\u001b[0;32m<ipython-input-3-37df954f8558>\u001b[0m in \u001b[0;36m<module>\u001b[0;34m()\u001b[0m\n\u001b[1;32m      1\u001b[0m \u001b[0;31m# Creation of the model\u001b[0m\u001b[0;34m\u001b[0m\u001b[0;34m\u001b[0m\u001b[0m\n\u001b[0;32m----> 2\u001b[0;31m \u001b[0mm\u001b[0m \u001b[0;34m=\u001b[0m \u001b[0mModel\u001b[0m\u001b[0;34m(\u001b[0m\u001b[0;34m'LR'\u001b[0m\u001b[0;34m)\u001b[0m\u001b[0;34m\u001b[0m\u001b[0m\n\u001b[0m\u001b[1;32m      3\u001b[0m \u001b[0;34m\u001b[0m\u001b[0m\n\u001b[1;32m      4\u001b[0m \u001b[0;31m# Your code goes here\u001b[0m\u001b[0;34m\u001b[0m\u001b[0;34m\u001b[0m\u001b[0m\n\u001b[1;32m      5\u001b[0m \u001b[0;34m\u001b[0m\u001b[0m\n",
      "\u001b[0;32mmodel.pxi\u001b[0m in \u001b[0;36mgurobipy.Model.__init__ (../../src/python/gurobipy.c:47380)\u001b[0;34m()\u001b[0m\n",
      "\u001b[0;32mgurobi.pxi\u001b[0m in \u001b[0;36mgurobipy.gurobi._getdefaultenv (../../src/python/gurobipy.c:124766)\u001b[0;34m()\u001b[0m\n",
      "\u001b[0;32menv.pxi\u001b[0m in \u001b[0;36mgurobipy.Env.__init__ (../../src/python/gurobipy.c:7709)\u001b[0;34m()\u001b[0m\n",
      "\u001b[0;31mGurobiError\u001b[0m: No Gurobi license found (user syht, host syht-Z370M-D3H, hostid 341fe2ad, cores 6)"
     ]
    }
   ],
   "source": [
    "# Creation of the model\n",
    "m = Model('LR')\n",
    "\n",
    "# Your code goes here\n",
    "\n",
    "# The following example is here to help you build the model (you must adapt it !!!) \n",
    "# Define decision variables\n",
    "var = [] # w, b, z\n",
    "for i in range(n):\n",
    "    var.append(m.addVar(lb = -GRB.INFINITY, vtype=GRB.CONTINUOUS, name = 'w_{}'.format(i), obj = 1))\n",
    "var.append(m.addVar(lb = -GRB.INFINITY, vtype=GRB.CONTINUOUS, name = 'b'.format(i), obj = 1))\n",
    "for i in range(N):\n",
    "    var.append(m.addVar(lb = -GRB.INFINITY, vtype=GRB.CONTINUOUS, name = 'z_{}'.format(i), obj = 1))\n",
    "m.update()\n",
    "\n",
    "# Constraints \n",
    "expr={}\n",
    "for j in range(N):\n",
    "    expr = LinExpr()\n",
    "    for i in range(n):\n",
    "        expr.add(z[i], -x[j][i])\n",
    "    expr.add(z[n], -1)  \n",
    "    expr.add(z[n+1+j], -1)\n",
    "    m.addConstr(expr, GRB.LESS_EQUAL, -y[j])\n",
    "    \n",
    "    expr = LinExpr()\n",
    "    for i in range(n):\n",
    "        expr.add(z[i], x[j][i])\n",
    "    expr.add(z[n], 1)  \n",
    "    expr.add(z[n+1+j], -1)\n",
    "    m.addConstr(expr, GRB.LESS_EQUAL, y[j])\n",
    "\n",
    "# Define objective function:\n",
    "obj=LinExpr()\n",
    "for i in range(N):\n",
    "    expr.add(z[n+1+i], 1)\n",
    "m.setObjective(obj, GRB.MINIMIZE)\n",
    "\n",
    "m.update()\n",
    "m.optimize()\n",
    "\n",
    "# Your code goes here\n",
    "\n",
    "#if m.status == GRB.Status.OPTIMAL:\n",
    "z = m.objVal\n",
    "b = var[n].x\n",
    "w = [v.x for v in var[:n]]\n",
    "return([z, b, w])"
   ]
  },
  {
   "cell_type": "code",
   "execution_count": null,
   "metadata": {
    "collapsed": true
   },
   "outputs": [],
   "source": []
  }
 ],
 "metadata": {
  "kernelspec": {
   "display_name": "Python 3",
   "language": "python",
   "name": "python3"
  },
  "language_info": {
   "codemirror_mode": {
    "name": "ipython",
    "version": 3
   },
   "file_extension": ".py",
   "mimetype": "text/x-python",
   "name": "python",
   "nbconvert_exporter": "python",
   "pygments_lexer": "ipython3",
   "version": "3.6.0"
  }
 },
 "nbformat": 4,
 "nbformat_minor": 2
}
