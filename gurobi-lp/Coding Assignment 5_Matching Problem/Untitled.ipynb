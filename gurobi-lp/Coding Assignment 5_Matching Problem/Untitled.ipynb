{
 "cells": [
  {
   "cell_type": "code",
   "execution_count": 1,
   "metadata": {
    "collapsed": true
   },
   "outputs": [],
   "source": [
    "import gurobipy\n",
    "import numpy\n",
    "from construct_lp_model import construct_lp_model"
   ]
  },
  {
   "cell_type": "code",
   "execution_count": 2,
   "metadata": {
    "collapsed": true
   },
   "outputs": [],
   "source": [
    "cost = numpy.array([[17.8, 16.96, 13.56, 12.22, 15.88, 17.59], \n",
    "                    [13.11, 7.14,  8.57, 8.67,  7.23, 14.49],\n",
    "                    [12.62, 9.1 ,  8.97, 7.75, 16.71, 16.59],\n",
    "                    [12.87, 7.14,  9.75, 13.87, 13.59, 12.37],\n",
    "                    [17.92, 14.5 , 14.91, 10.0 , 13.67, 12.56], \n",
    "                    [9.9 , 15.7 , 15.32, 16.8 , 17.34, 18.21]])"
   ]
  },
  {
   "cell_type": "code",
   "execution_count": 3,
   "metadata": {},
   "outputs": [
    {
     "data": {
      "text/plain": [
       "array([[17.8 , 16.96, 13.56, 12.22, 15.88, 17.59],\n",
       "       [13.11,  7.14,  8.57,  8.67,  7.23, 14.49],\n",
       "       [12.62,  9.1 ,  8.97,  7.75, 16.71, 16.59],\n",
       "       [12.87,  7.14,  9.75, 13.87, 13.59, 12.37],\n",
       "       [17.92, 14.5 , 14.91, 10.  , 13.67, 12.56],\n",
       "       [ 9.9 , 15.7 , 15.32, 16.8 , 17.34, 18.21]])"
      ]
     },
     "execution_count": 3,
     "metadata": {},
     "output_type": "execute_result"
    }
   ],
   "source": [
    "cost"
   ]
  },
  {
   "cell_type": "code",
   "execution_count": 1,
   "metadata": {},
   "outputs": [],
   "source": [
    "from your_code import *"
   ]
  },
  {
   "cell_type": "code",
   "execution_count": 2,
   "metadata": {},
   "outputs": [
    {
     "name": "stdout",
     "output_type": "stream",
     "text": [
      "Optimize a model with 12 rows, 36 columns and 72 nonzeros\n",
      "Variable types: 0 continuous, 36 integer (36 binary)\n",
      "Coefficient statistics:\n",
      "  Matrix range     [1e+00, 1e+00]\n",
      "  Objective range  [7e+00, 2e+01]\n",
      "  Bounds range     [1e+00, 1e+00]\n",
      "  RHS range        [1e+00, 2e+00]\n",
      "Found heuristic solution: objective 78.9200000\n",
      "Presolve time: 0.00s\n",
      "Presolved: 12 rows, 36 columns, 72 nonzeros\n",
      "Variable types: 0 continuous, 36 integer (36 binary)\n",
      "\n",
      "Root relaxation: objective 5.537000e+01, 7 iterations, 0.00 seconds\n",
      "\n",
      "    Nodes    |    Current Node    |     Objective Bounds      |     Work\n",
      " Expl Unexpl |  Obj  Depth IntInf | Incumbent    BestBd   Gap | It/Node Time\n",
      "\n",
      "*    0     0               0      55.3700000   55.37000  0.00%     -    0s\n",
      "\n",
      "Explored 0 nodes (7 simplex iterations) in 0.04 seconds\n",
      "Thread count was 4 (of 4 available processors)\n",
      "\n",
      "Solution count 2: 55.37 78.92 \n",
      "\n",
      "Optimal solution found (tolerance 1.00e-04)\n",
      "Best objective 5.537000000000e+01, best bound 5.537000000000e+01, gap 0.0000%\n"
     ]
    },
    {
     "data": {
      "text/plain": [
       "[55.370000000000005,\n",
       " [(1, 4), (2, 2), (3, 3), (4, 2), (5, 4), (6, 1)],\n",
       " <gurobi.Model MIP instance matching: 12 constrs, 36 vars, Parameter changes: LogFile=gurobi.log>]"
      ]
     },
     "execution_count": 2,
     "metadata": {},
     "output_type": "execute_result"
    }
   ],
   "source": [
    "compute_optimal_allocation()"
   ]
  },
  {
   "cell_type": "code",
   "execution_count": null,
   "metadata": {},
   "outputs": [],
   "source": []
  }
 ],
 "metadata": {
  "kernelspec": {
   "display_name": "Python 3",
   "language": "python",
   "name": "python3"
  },
  "language_info": {
   "codemirror_mode": {
    "name": "ipython",
    "version": 3
   },
   "file_extension": ".py",
   "mimetype": "text/x-python",
   "name": "python",
   "nbconvert_exporter": "python",
   "pygments_lexer": "ipython3",
   "version": "3.6.4"
  }
 },
 "nbformat": 4,
 "nbformat_minor": 2
}
