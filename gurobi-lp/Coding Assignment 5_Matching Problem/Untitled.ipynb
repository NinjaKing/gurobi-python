{
 "cells": [
  {
   "cell_type": "code",
   "execution_count": 1,
   "metadata": {
    "collapsed": true
   },
   "outputs": [],
   "source": [
    "import gurobipy\n",
    "import numpy\n",
    "from construct_lp_model import construct_lp_model"
   ]
  },
  {
   "cell_type": "code",
   "execution_count": 2,
   "metadata": {
    "collapsed": true
   },
   "outputs": [],
   "source": [
    "cost = numpy.array([[17.8, 16.96, 13.56, 12.22, 15.88, 17.59], \n",
    "                    [13.11, 7.14,  8.57, 8.67,  7.23, 14.49],\n",
    "                    [12.62, 9.1 ,  8.97, 7.75, 16.71, 16.59],\n",
    "                    [12.87, 7.14,  9.75, 13.87, 13.59, 12.37],\n",
    "                    [17.92, 14.5 , 14.91, 10.0 , 13.67, 12.56], \n",
    "                    [9.9 , 15.7 , 15.32, 16.8 , 17.34, 18.21]])"
   ]
  },
  {
   "cell_type": "code",
   "execution_count": 3,
   "metadata": {
    "collapsed": false
   },
   "outputs": [
    {
     "data": {
      "text/plain": [
       "array([[17.8 , 16.96, 13.56, 12.22, 15.88, 17.59],\n",
       "       [13.11,  7.14,  8.57,  8.67,  7.23, 14.49],\n",
       "       [12.62,  9.1 ,  8.97,  7.75, 16.71, 16.59],\n",
       "       [12.87,  7.14,  9.75, 13.87, 13.59, 12.37],\n",
       "       [17.92, 14.5 , 14.91, 10.  , 13.67, 12.56],\n",
       "       [ 9.9 , 15.7 , 15.32, 16.8 , 17.34, 18.21]])"
      ]
     },
     "execution_count": 3,
     "metadata": {},
     "output_type": "execute_result"
    }
   ],
   "source": [
    "cost"
   ]
  },
  {
   "cell_type": "code",
   "execution_count": null,
   "metadata": {
    "collapsed": true
   },
   "outputs": [],
   "source": []
  }
 ],
 "metadata": {
  "kernelspec": {
   "display_name": "Python 3",
   "language": "python",
   "name": "python3"
  },
  "language_info": {
   "codemirror_mode": {
    "name": "ipython",
    "version": 3
   },
   "file_extension": ".py",
   "mimetype": "text/x-python",
   "name": "python",
   "nbconvert_exporter": "python",
   "pygments_lexer": "ipython3",
   "version": "3.6.0"
  }
 },
 "nbformat": 4,
 "nbformat_minor": 2
}
